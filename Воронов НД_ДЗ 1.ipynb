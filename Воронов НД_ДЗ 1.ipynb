{
 "cells": [
  {
   "cell_type": "code",
   "execution_count": 50,
   "metadata": {},
   "outputs": [
    {
     "name": "stdout",
     "output_type": "stream",
     "text": [
      "Обычный год\n"
     ]
    }
   ],
   "source": [
    "# Дана переменная, в которой хранится четырёхзначное число (год). Необходимо написать\n",
    "# программу, которая выведет, является этот год високосным или обычным.\n",
    "\n",
    "def check_leap_year(year: int) -> bool:\n",
    "    return bool(not (year % 400) or (not (year % 4) and year % 100))\n",
    "\n",
    "\n",
    "def test_check_leap_year():\n",
    "    assert check_leap_year(2020) == True, \"Test Case 1 Failed\"\n",
    "    assert check_leap_year(2019) == False, \"Test Case 2 Failed\"\n",
    "    assert check_leap_year(2016) == True, \"Test Case 3 Failed\"\n",
    "    assert check_leap_year(1900) == False, \"Test Case 4 Failed\"\n",
    "    assert check_leap_year(2100) == False, \"Test Case 5 Failed\"\n",
    "    assert check_leap_year(2000) == True, \"Test Case 6 Failed\"\n",
    "    assert check_leap_year(1600) == True, \"Test Case 7 Failed\"\n",
    "    assert check_leap_year(2019) == False, \"Test Case 8 Failed\"\n",
    "    assert check_leap_year(2021) == False, \"Test Case 9 Failed\"\n",
    "    assert check_leap_year(0) == True, \"Test Case 10 Failed\"\n",
    "    assert check_leap_year(-4) == True, \"Test Case 11 Failed\"\n",
    "    assert check_leap_year(-3) == False, \"Test Case 12 Failed\"\n",
    "\n",
    "\n",
    "test_check_leap_year()\n",
    "year = int(input())\n",
    "print('Високосный год' if check_leap_year(year) else 'Обычный год')"
   ]
  },
  {
   "cell_type": "code",
   "execution_count": 51,
   "metadata": {},
   "outputs": [
    {
     "name": "stdout",
     "output_type": "stream",
     "text": [
      "All test cases passed!\n",
      "Счастливый билет\n"
     ]
    }
   ],
   "source": [
    "# Дана переменная, в которой хранится шестизначное число (номер проездного билета).\n",
    "# Напишите программу, которая будет определять, является ли этот билет счастливым.\n",
    "# Билет считается счастливым, если сумма первых трёх цифр совпадает с суммой\n",
    "# последних трёх цифр номера.\n",
    "\n",
    "def check_lucky_ticket(ticket: str) -> bool:\n",
    "    assert ticket.isnumeric() and not (len(ticket) % 2) and len(ticket) > 2, 'Incorrect input'\n",
    "\n",
    "    def sum_numbers(number): \n",
    "        return sum(int(num) for num in number)\n",
    "    \n",
    "    return sum_numbers(ticket[int(len(ticket) / 2):]) == sum_numbers(ticket[:int(len(ticket) / 2)])\n",
    "\n",
    "\n",
    "def test_check_lucky_ticket():\n",
    "    # Valid lucky ticket\n",
    "    assert check_lucky_ticket(\"123321\") == True, \"Test Case 1 Failed\"\n",
    "    assert check_lucky_ticket(\"456654\") == True, \"Test Case 2 Failed\"\n",
    "\n",
    "    # Valid non-lucky ticket\n",
    "    assert check_lucky_ticket(\"123456\") == False, \"Test Case 3 Failed\"\n",
    "    assert check_lucky_ticket(\"111222\") == False, \"Test Case 4 Failed\"\n",
    "\n",
    "    # Edge cases with minimum valid input\n",
    "    assert check_lucky_ticket(\"000000\") == True, \"Test Case 5 Failed\"\n",
    "\n",
    "    assert check_lucky_ticket(\"123456\") == False, \"Test Case 6 Faiяled\"\n",
    "    assert check_lucky_ticket(\"123321\") == True, \"Test Case 7 Failed\"\n",
    "\n",
    "    # Invalid inputs\n",
    "    try:\n",
    "        check_lucky_ticket(\"12345\")  # Odd length\n",
    "    except AssertionError:\n",
    "        pass  # Expected behavior\n",
    "\n",
    "    try:\n",
    "        check_lucky_ticket(\"1234567\")  # Odd length\n",
    "    except AssertionError:\n",
    "        pass  # Expected behavior\n",
    "\n",
    "    try:\n",
    "        check_lucky_ticket(\"abc123\")  # Non-numeric characters\n",
    "    except AssertionError:\n",
    "        pass  # Expected behavior\n",
    "\n",
    "    try:\n",
    "        check_lucky_ticket(\"1234a6\")  # Non-numeric characters\n",
    "    except AssertionError:\n",
    "        pass  # Expected behavior\n",
    "\n",
    "\n",
    "test_check_lucky_ticket()\n",
    "ticket_number = str(input())\n",
    "print('Счастливый билет' if check_lucky_ticket(\n",
    "    ticket_number) else 'Несчастливый билет')"
   ]
  }
 ],
 "metadata": {
  "kernelspec": {
   "display_name": "Python 3",
   "language": "python",
   "name": "python3"
  },
  "language_info": {
   "codemirror_mode": {
    "name": "ipython",
    "version": 3
   },
   "file_extension": ".py",
   "mimetype": "text/x-python",
   "name": "python",
   "nbconvert_exporter": "python",
   "pygments_lexer": "ipython3",
   "version": "3.9.6"
  },
  "orig_nbformat": 4
 },
 "nbformat": 4,
 "nbformat_minor": 2
}
