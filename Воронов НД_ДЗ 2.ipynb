{
 "cells": [
  {
   "cell_type": "code",
   "execution_count": 21,
   "metadata": {},
   "outputs": [
    {
     "name": "stdout",
     "output_type": "stream",
     "text": [
      "All tests passed!\n"
     ]
    },
    {
     "data": {
      "text/plain": [
       "'es'"
      ]
     },
     "execution_count": 21,
     "metadata": {},
     "output_type": "execute_result"
    }
   ],
   "source": [
    "# Написать код на Python в среде Jupyter Notebook для решения следующей задачи.\n",
    "# Дана переменная, в которой хранится слово из латинских букв. Напишите код,\n",
    "# который выводит на экран:\n",
    "# * среднюю букву, если число букв в слове нечётное;\n",
    "# * две средних буквы, если число букв чётное.\n",
    "# 1. word = 'test' Результат: es\n",
    "# 2. word = 'testing' Результат: t\n",
    "\n",
    "\n",
    "def get_char_from_word(word: str) -> str:\n",
    "    middle = len(word) // 2\n",
    "    return word[middle - 1:middle + 1] if len(word) % 2 == 0 else word[middle]\n",
    "\n",
    "def test_get_char_from_word():\n",
    "    test_cases = [\n",
    "        ('test', 'es'),     # Even length\n",
    "        ('testing', 't'),   # Odd length\n",
    "        ('a', 'a'),         # Single character\n",
    "        ('ab', 'ab'),       # Two characters\n",
    "        ('abc', 'b'),       # Three characters\n",
    "        ('abcd', 'bc'),      # Four characters\n",
    "    ]\n",
    "\n",
    "    assert all(get_char_from_word(word) == expected for word,\n",
    "               expected in test_cases), \"One or more tests failed!\"\n",
    "\n",
    "    print(\"All tests passed!\")\n",
    "\n",
    "\n",
    "test_get_char_from_word()\n",
    "word = str(input())\n",
    "get_char_from_word(word)"
   ]
  },
  {
   "cell_type": "code",
   "execution_count": 20,
   "metadata": {},
   "outputs": [
    {
     "name": "stdout",
     "output_type": "stream",
     "text": [
      "Alex и Emma\n",
      "Arthur и Kate\n",
      "John и Kira\n",
      "Peter и Liza\n",
      "Richard и Trisha\n"
     ]
    },
    {
     "data": {
      "text/plain": [
       "'Внимание, кто-то может остаться без пары!'"
      ]
     },
     "execution_count": 20,
     "metadata": {},
     "output_type": "execute_result"
    }
   ],
   "source": [
    "# Вы делаете MVP (минимально жизнеспособный продукт) dating-сервиса.\n",
    "# У вас есть список юношей и девушек.\n",
    "# Выдвигаем гипотезу: лучшие рекомендации получатся, если просто отсортировать\n",
    "# имена по алфавиту и познакомить людей с одинаковыми индексами после\n",
    "# сортировки. Но вы не будете никого знакомить, если кто-то может остаться без\n",
    "# пары.\n",
    "# Примеры работы программы:\n",
    "# boys = ['Peter', 'Alex', 'John', 'Arthur',\n",
    "# 'Richard']\n",
    "# girls = ['Kate', 'Liza', 'Kira', 'Emma',\n",
    "# 'Trisha']\n",
    "# Результат:\n",
    "# Идеальные пары:\n",
    "# Alex и Emma\n",
    "# Arthur и Kate\n",
    "# John и Kira\n",
    "# Peter и Liza\n",
    "# Richard и Trisha\n",
    "# boys = ['Peter', 'Alex', 'John', 'Arthur',\n",
    "# 'Richard', 'Michael']\n",
    "# girls = ['Kate', 'Liza', 'Kira', 'Emma',\n",
    "# 'Trisha']\n",
    "# Результат: Внимание, кто-то может остаться без пары!\n",
    "\n",
    "\n",
    "\n",
    "def make_perfect_relationship(boys: list, girls: list) -> None:\n",
    "    if len(boys) != len(girls): \n",
    "        return 'Внимание, кто-то может остаться без пары!'\n",
    "    for b, g in zip(sorted(boys), sorted(girls)):\n",
    "        print(b, g, sep=' и ')\n",
    "       \n",
    "boys = ['Peter', 'Alex', 'John', 'Arthur',\n",
    "'Richard']\n",
    "girls = ['Kate', 'Liza', 'Kira', 'Emma',\n",
    "'Trisha']\n",
    "make_perfect_relationship(boys, girls)\n",
    "\n",
    "boys = ['Peter', 'Alex', 'John', 'Arthur',\n",
    "'Richard', 'Michael']\n",
    "girls = ['Kate', 'Liza', 'Kira', 'Emma',\n",
    "'Trisha']\n",
    "make_perfect_relationship(boys, girls)\n"
   ]
  },
  {
   "cell_type": "code",
   "execution_count": null,
   "metadata": {},
   "outputs": [],
   "source": []
  }
 ],
 "metadata": {
  "kernelspec": {
   "display_name": "Python 3",
   "language": "python",
   "name": "python3"
  },
  "language_info": {
   "codemirror_mode": {
    "name": "ipython",
    "version": 3
   },
   "file_extension": ".py",
   "mimetype": "text/x-python",
   "name": "python",
   "nbconvert_exporter": "python",
   "pygments_lexer": "ipython3",
   "version": "3.9.6"
  },
  "orig_nbformat": 4
 },
 "nbformat": 4,
 "nbformat_minor": 2
}
