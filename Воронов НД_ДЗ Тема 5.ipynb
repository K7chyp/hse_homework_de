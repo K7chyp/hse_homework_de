{
 "cells": [
  {
   "cell_type": "code",
   "execution_count": 2,
   "metadata": {},
   "outputs": [
    {
     "name": "stdout",
     "output_type": "stream",
     "text": [
      "Duration for 10000 iterations: 0.4893 seconds\n",
      "Duration for 100000 iterations: 6.2796 seconds\n"
     ]
    },
    {
     "data": {
      "text/plain": [
       "6.279601097106934"
      ]
     },
     "execution_count": 2,
     "metadata": {},
     "output_type": "execute_result"
    }
   ],
   "source": [
    "import concurrent.futures\n",
    "import time\n",
    "\n",
    "# Определяем формулы\n",
    "def formula_1(x):\n",
    "    return x**2 - x**2 + x * 4 - x * 5 + x + x\n",
    "\n",
    "def formula_2(x):\n",
    "    return x + x\n",
    "\n",
    "def compute_results(iterations):\n",
    "    results_1 = []\n",
    "    results_2 = []\n",
    "\n",
    "    # Запускаем вычисления по формуле 1 и 2 параллельно\n",
    "    with concurrent.futures.ThreadPoolExecutor(max_workers=5) as executor:\n",
    "        # Запускаем вычисления по формуле 1\n",
    "        future_1 = executor.map(formula_1, range(iterations))\n",
    "        # Запускаем вычисления по формуле 2\n",
    "        future_2 = executor.map(formula_2, range(iterations))\n",
    "\n",
    "        # Сохраняем результаты\n",
    "        results_1 = list(future_1)\n",
    "        results_2 = list(future_2)\n",
    "\n",
    "    # Вычисляем результаты по формуле 3\n",
    "    results_3 = [r1 + r2 for r1, r2 in zip(results_1, results_2)]\n",
    "    \n",
    "    return results_1, results_2, results_3\n",
    "\n",
    "def measure_time(iterations):\n",
    "    start_time = time.time()\n",
    "    \n",
    "    results_1, results_2, results_3 = compute_results(iterations)\n",
    "\n",
    "    end_time = time.time()\n",
    "    \n",
    "    duration = end_time - start_time\n",
    "    print(f\"Duration for {iterations} iterations: {duration:.4f} seconds\")\n",
    "    return duration\n",
    "\n",
    "# Выполняем на 10 000 и 100 000 итерациях\n",
    "measure_time(10000)\n",
    "measure_time(100000)"
   ]
  },
  {
   "cell_type": "code",
   "execution_count": 9,
   "metadata": {},
   "outputs": [
    {
     "name": "stdout",
     "output_type": "stream",
     "text": [
      "Duration for 10000 iterations: 0.6201 seconds\n",
      "Duration for 100000 iterations: 7.4222 seconds\n"
     ]
    },
    {
     "data": {
      "text/plain": [
       "7.4221742153167725"
      ]
     },
     "execution_count": 9,
     "metadata": {},
     "output_type": "execute_result"
    }
   ],
   "source": [
    "import concurrent.futures\n",
    "import time\n",
    "\n",
    "# Определяем формулы\n",
    "def formula_1(x):\n",
    "    return x**2 - x**2 + x * 4 - x * 5 + x + x\n",
    "\n",
    "def formula_2(x):\n",
    "    return x + x\n",
    "\n",
    "def compute_results(iterations):\n",
    "    results_1 = []\n",
    "    results_2 = []\n",
    "\n",
    "    # Запускаем вычисления по формуле 1 и 2 параллельно\n",
    "    with concurrent.futures.ThreadPoolExecutor(max_workers=5) as executor:\n",
    "        # Запускаем вычисления по формуле 1\n",
    "        future_1 = executor.map(formula_1, range(iterations))\n",
    "        # Запускаем вычисления по формуле 2\n",
    "        future_2 = executor.map(formula_2, range(iterations))\n",
    "\n",
    "        # Сохраняем результаты\n",
    "        results_1 = list(future_1)\n",
    "        results_2 = list(future_2)\n",
    "\n",
    "    # Вычисляем результаты по формуле 3\n",
    "    results_3 = [r1 + r2 for r1, r2 in zip(results_1, results_2)]\n",
    "    \n",
    "    return results_1, results_2, results_3\n",
    "\n",
    "def measure_time(iterations):\n",
    "    start_time = time.time()\n",
    "    \n",
    "    results_1, results_2, results_3 = compute_results(iterations)\n",
    "\n",
    "    end_time = time.time()\n",
    "    \n",
    "    duration = end_time - start_time\n",
    "    print(f\"Duration for {iterations} iterations: {duration:.4f} seconds\")\n",
    "    return duration\n",
    "\n",
    "# Выполняем на 10 000 и 100 000 итерациях\n",
    "measure_time(10000)\n",
    "measure_time(100000)"
   ]
  }
 ],
 "metadata": {
  "kernelspec": {
   "display_name": "Python 3",
   "language": "python",
   "name": "python3"
  },
  "language_info": {
   "codemirror_mode": {
    "name": "ipython",
    "version": 3
   },
   "file_extension": ".py",
   "mimetype": "text/x-python",
   "name": "python",
   "nbconvert_exporter": "python",
   "pygments_lexer": "ipython3",
   "version": "3.9.6"
  },
  "orig_nbformat": 4
 },
 "nbformat": 4,
 "nbformat_minor": 2
}
