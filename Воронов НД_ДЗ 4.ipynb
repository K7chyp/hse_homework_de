{
 "cells": [
  {
   "cell_type": "code",
   "execution_count": 1,
   "metadata": {},
   "outputs": [
    {
     "name": "stdout",
     "output_type": "stream",
     "text": [
      "Команда некоректная. Попробуйте:\n",
      "\"q\" для выхода\n",
      "\"p\" для поиска ФИО человека\n",
      "\"s\" для поиска номера директории\n",
      "Владелец документа: Аристарх Павлов\n",
      "Владелец документа: владелец не найден»\n",
      "Документ хранится на полке: 2\n",
      "Команда некоректная. Попробуйте:\n",
      "\"q\" для выхода\n",
      "\"p\" для поиска ФИО человека\n",
      "\"s\" для поиска номера директории\n"
     ]
    }
   ],
   "source": [
    "documents = [\n",
    "    {'type': 'passport', 'number': '2207 876234',\n",
    "     'name': 'Василий Гупкин'},\n",
    "    {'type': 'invoice', 'number': '11-2',\n",
    "     'name': 'Геннадий Покемонов'},\n",
    "    {'type': 'insurance', 'number': '10006',\n",
    "     'name': 'Аристарх Павлов'}\n",
    "]\n",
    "\n",
    "directories = {\n",
    "    '1': ['2207 876234', '11-2'],\n",
    "    '2': ['10006'],\n",
    "    '3': []\n",
    "}\n",
    "\n",
    "\n",
    "def get_tie_doc_id_name() -> dict:\n",
    "    return {row.get('number'): row.get('name') for row in documents}\n",
    "\n",
    "\n",
    "def get_tie_doc_id_shelf() -> dict:\n",
    "    not_flat_directories = [[[val[0], doc]\n",
    "                             for doc in val[1]] for val in directories.items()]\n",
    "    return {val[1]: val[0] for sub in not_flat_directories for val in sub}\n",
    "\n",
    "\n",
    "def check_result_available(docs: dict, num: str, log_msg_found: str, log_msg_not_found: str) -> str:\n",
    "    print(log_msg_found + docs.get(num) if docs.get(num)\n",
    "          else log_msg_not_found)\n",
    "\n",
    "\n",
    "command = ''\n",
    "while command != 'q':\n",
    "    command = str(input('Введите команду: '))\n",
    "    if command not in ('q', 'p', 's'):\n",
    "        print('Команда некоректная. Попробуйте:',\n",
    "              '\"q\" для выхода',\n",
    "              '\"p\" для поиска ФИО человека',\n",
    "              '\"s\" для поиска номера директории', sep='\\n')\n",
    "    elif command in ('p', 's'):\n",
    "        num = str(input('Введите номер документа: '))\n",
    "        if command == 'p':\n",
    "            check_result_available(\n",
    "                get_tie_doc_id_name(),\n",
    "                num,\n",
    "                'Владелец документа: ', \n",
    "                'Владелец документа: владелец не найден»'\n",
    "            )\n",
    "        elif command == 's':\n",
    "            check_result_available(\n",
    "                get_tie_doc_id_shelf(),\n",
    "                num,\n",
    "                'Документ хранится на полке: ', \n",
    "                'Документ не найден'\n",
    "            )"
   ]
  }
 ],
 "metadata": {
  "kernelspec": {
   "display_name": "Python 3",
   "language": "python",
   "name": "python3"
  },
  "language_info": {
   "codemirror_mode": {
    "name": "ipython",
    "version": 3
   },
   "file_extension": ".py",
   "mimetype": "text/x-python",
   "name": "python",
   "nbconvert_exporter": "python",
   "pygments_lexer": "ipython3",
   "version": "3.12.1"
  },
  "orig_nbformat": 4
 },
 "nbformat": 4,
 "nbformat_minor": 2
}
