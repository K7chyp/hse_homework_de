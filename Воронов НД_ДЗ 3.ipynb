{
 "cells": [
  {
   "cell_type": "code",
   "execution_count": 2,
   "metadata": {},
   "outputs": [
    {
     "data": {
      "text/plain": [
       "{15, 35, 54, 98, 119, 213}"
      ]
     },
     "execution_count": 2,
     "metadata": {},
     "output_type": "execute_result"
    }
   ],
   "source": [
    "# Дана переменная, в которой хранится словарь, содержащий геометки для каждого пользователя\n",
    "# (пример структуры данных приведён ниже). Вам нужно написать программу, которая выведет на\n",
    "# экран множество уникальных геометок всех пользователей.\n",
    "# Пример работы программы:\n",
    "# ids = {'user1': [213, 213, 213, 15, 213],\n",
    "# 'user2': [54, 54, 119, 119, 119],\n",
    "# 'user3': [213, 98, 98, 35]}\n",
    "# Результат: {98, 35, 15, 213, 54, 119}\n",
    "\n",
    "\n",
    "def get_uniq_geotags(users: dict) -> set:\n",
    "    return set([val for sub in users.values() for val in sub])\n",
    "\n",
    "\n",
    "ids = {'user1': [213, 213, 213, 15, 213],\n",
    "       'user2': [54, 54, 119, 119, 119],\n",
    "       'user3': [213, 98, 98, 35]}\n",
    "\n",
    "get_uniq_geotags(ids)"
   ]
  },
  {
   "cell_type": "code",
   "execution_count": 8,
   "metadata": {},
   "outputs": [
    {
     "name": "stdout",
     "output_type": "stream",
     "text": [
      "Поисковых запросов, содержащих 2 слов(а): 42.86%\n",
      "Поисковых запросов, содержащих 3 слов(а): 57.14%\n"
     ]
    }
   ],
   "source": [
    "# Дана переменная, в которой хранится список поисковых запросов пользователя (пример структуры\n",
    "# данных приведён ниже). Вам нужно написать программу, которая выведет на экран распределение\n",
    "# количества слов в запросах в требуемом виде.\n",
    "# Пример работы программы:\n",
    "# queries = [\n",
    "# 'смотреть сериалы онлайн',\n",
    "# 'новости спорта',\n",
    "# 'афиша кино',\n",
    "# 'курс доллара',\n",
    "# 'сериалы этим летом',\n",
    "# 'курс по питону',\n",
    "# 'сериалы про спорт',\n",
    "# ]\n",
    "# Результат:\n",
    "# Поисковых запросов, содержащих 2 слов(а): 42.86%\n",
    "# Поисковых запросов, содержащих 3 слов(а): 57.14%\n",
    "\n",
    "\n",
    "queries = [\n",
    "    'смотреть сериалы онлайн',\n",
    "    'новости спорта',\n",
    "    'афиша кино',\n",
    "    'курс доллара',\n",
    "    'сериалы этим летом',\n",
    "    'курс по питону',\n",
    "    'сериалы про спорт',\n",
    "]\n",
    "\n",
    "\n",
    "def get_words_frequency(queries: list) -> None:\n",
    "    result = {}\n",
    "    for query in queries:\n",
    "        cnt = len(query.split())\n",
    "        if result.get(cnt):\n",
    "            result[cnt] += 1\n",
    "        else:\n",
    "            result[cnt] = 1\n",
    "    for val in sorted(result.items(), key=lambda x: x[0]):\n",
    "        print(\n",
    "            f'Поисковых запросов, содержащих {val[0]} слов(а): {val[1] / len(queries):.2%}')\n",
    "\n",
    "\n",
    "get_words_frequency(queries)"
   ]
  },
  {
   "cell_type": "code",
   "execution_count": null,
   "metadata": {},
   "outputs": [],
   "source": []
  }
 ],
 "metadata": {
  "kernelspec": {
   "display_name": "Python 3",
   "language": "python",
   "name": "python3"
  },
  "language_info": {
   "codemirror_mode": {
    "name": "ipython",
    "version": 3
   },
   "file_extension": ".py",
   "mimetype": "text/x-python",
   "name": "python",
   "nbconvert_exporter": "python",
   "pygments_lexer": "ipython3",
   "version": "3.9.6"
  },
  "orig_nbformat": 4
 },
 "nbformat": 4,
 "nbformat_minor": 2
}
