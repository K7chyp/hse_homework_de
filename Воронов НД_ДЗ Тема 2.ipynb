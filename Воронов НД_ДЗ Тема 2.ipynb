{
 "cells": [
  {
   "cell_type": "code",
   "execution_count": 5,
   "metadata": {},
   "outputs": [
    {
     "name": "stdout",
     "output_type": "stream",
     "text": [
      "The Moscow Times: 2002-10-02 00:00:00\n",
      "The Guardian: 2013-10-11 00:00:00\n",
      "Daily News: 1977-08-18 00:00:00\n"
     ]
    }
   ],
   "source": [
    "from datetime import datetime\n",
    "\n",
    "# Определяем форматы для каждой газеты\n",
    "formats = {\n",
    "    \"The Moscow Times\": \"%A, %B %d, %Y\",\n",
    "    \"The Guardian\": \"%A, %d.%m.%y\",\n",
    "    \"Daily News\": \"%A, %d %B %Y\"\n",
    "}\n",
    "\n",
    "# Даты для каждой газеты\n",
    "dates = {\n",
    "    \"Wednesday, October 2, 2002\" : \"The Moscow Times\",\n",
    "    \"Friday, 11.10.13\": \"The Guardian\",\n",
    "    \"Thursday, 18 August 1977\":\"Daily News\"\n",
    "}\n",
    "\n",
    "for date_str, newspaper in dates.items():\n",
    "    date_format = formats.get(newspaper)\n",
    "    if date_format:\n",
    "        date_obj = datetime.strptime(date_str, date_format)\n",
    "        print(f\"{newspaper}: {date_obj}\")"
   ]
  },
  {
   "cell_type": "code",
   "execution_count": 11,
   "metadata": {},
   "outputs": [
    {
     "name": "stdout",
     "output_type": "stream",
     "text": [
      "['2024-09-14', '2024-09-15', '2024-09-16', '2024-09-17', '2024-09-18', '2024-09-19', '2024-09-20', '2024-09-21']\n",
      "[]\n",
      "[]\n"
     ]
    }
   ],
   "source": [
    "from datetime import datetime, timedelta\n",
    "\n",
    "def date_range(start_date: str, end_date: str) -> list:\n",
    "    date_format = \"%Y-%m-%d\"\n",
    "    result = []\n",
    "    \n",
    "    try:\n",
    "        start = datetime.strptime(start_date, date_format)\n",
    "        end = datetime.strptime(end_date, date_format)\n",
    "        \n",
    "        if start > end:\n",
    "            return result\n",
    "        \n",
    "        while start <= end:\n",
    "            result.append(start.strftime(date_format))\n",
    "            start += timedelta(days=1)\n",
    "        \n",
    "        return result\n",
    "    \n",
    "    except ValueError:\n",
    "        return result\n",
    "\n",
    "\n",
    "print(date_range('2024-09-14', '2024-09-21'))  \n",
    "print(date_range('2024-09-21', '2024-09-14'))  \n",
    "print(date_range('2024-09-14', 'invalid-date'))  \n"
   ]
  }
 ],
 "metadata": {
  "kernelspec": {
   "display_name": "Python 3",
   "language": "python",
   "name": "python3"
  },
  "language_info": {
   "codemirror_mode": {
    "name": "ipython",
    "version": 3
   },
   "file_extension": ".py",
   "mimetype": "text/x-python",
   "name": "python",
   "nbconvert_exporter": "python",
   "pygments_lexer": "ipython3",
   "version": "3.9.6"
  },
  "orig_nbformat": 4
 },
 "nbformat": 4,
 "nbformat_minor": 2
}
