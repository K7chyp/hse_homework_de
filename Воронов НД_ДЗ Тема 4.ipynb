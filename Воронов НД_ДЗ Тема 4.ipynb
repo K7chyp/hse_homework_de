{
 "cells": [
  {
   "cell_type": "code",
   "execution_count": 15,
   "metadata": {},
   "outputs": [
    {
     "name": "stdout",
     "output_type": "stream",
     "text": [
      "Номер А222ВС валиден. Регион: 96.\n",
      "Номер не валиден.\n"
     ]
    }
   ],
   "source": [
    "# Задание 1\n",
    "# Напишите функцию, которая принимает на вход строку и проверяет, является\n",
    "# ли она валидным транспортным номером (1 буква, 3 цифры, 2 буквы, 2–3\n",
    "# цифры). Обратите внимание, что не все буквы кириллического алфавита\n",
    "# используются в транспортных номерах.\n",
    "# Если номер валиден, то функция должна возвращать отдельно номер и регион.\n",
    "# Примеры работы программы:\n",
    "# car_id = 'А222BС96'\n",
    "# Результат: Номер А222BС валиден. Регион: 96.\n",
    "# car_id = 'АБ22ВВ193'\n",
    "# Результат: Номер не валиден.\n",
    "\n",
    "import re\n",
    "\n",
    "\n",
    "def validate_car_number(car_id):\n",
    "    license_plate_chars = ''.join(['А', 'В', 'Е', 'К', 'М', 'Н', 'О', 'Р', 'С', 'Т', 'У', 'Х'])\n",
    "    pattern = '^[' + license_plate_chars + ']{1}\\d{3}[' + license_plate_chars + ']{2}\\d{2,3}$'\n",
    "\n",
    "    match = re.match(pattern, car_id)\n",
    "\n",
    "    if match:\n",
    "        number = car_id[:-2] \n",
    "        region = car_id[-2:] if len(car_id) == 8 else car_id[-3:]\n",
    "        return f'Номер {number} валиден. Регион: {region}.'\n",
    "    else:\n",
    "        return 'Номер не валиден.'\n",
    "\n",
    "\n",
    "# Примеры использования\n",
    "car_id_1 = 'А222ВС96'\n",
    "print(validate_car_number(car_id_1))  # Номер А222BС валиден. Регион: 96.\n",
    "\n",
    "car_id_2 = 'АБ22ВВ193'\n",
    "print(validate_car_number(car_id_2))  # Номер не валиден."
   ]
  },
  {
   "cell_type": "code",
   "execution_count": 16,
   "metadata": {},
   "outputs": [
    {
     "name": "stdout",
     "output_type": "stream",
     "text": [
      "Напишите функцию, которая будет удалять все последовательные повторы слов из заданной строки при помощи регулярных выражений\n"
     ]
    }
   ],
   "source": [
    "\n",
    "# Задание 2 (не обязательное)\n",
    "# Напишите функцию, которая будет удалять все последовательные повторы\n",
    "# слов из заданной строки при помощи регулярных выражений.\n",
    "# Пример работы программы:\n",
    "# some_string = 'Напишите функцию функцию, которая будет будет будет будет\n",
    "# удалять все все все все последовательные повторы слов из из из из заданной\n",
    "# строки строки при помощи регулярных выражений'\n",
    "# Результат: Напишите функцию, которая будет удалять все последовательные\n",
    "# повторы слов из заданной строки при помощи регулярных выражений.\n",
    "\n",
    "import re\n",
    "\n",
    "def remove_consecutive_duplicates(text):\n",
    "    pattern = r'\\b(\\w+)(?:\\s+\\1\\b)+'\n",
    "    \n",
    "    while re.search(pattern, text):\n",
    "        text = re.sub(pattern, r'\\1', text)\n",
    "    \n",
    "    return text\n",
    "\n",
    "some_string = (\n",
    "    'Напишите функцию функцию, которая будет будет будет удалять все все '\n",
    "    'последовательные повторы слов из из заданной строки строки при помощи '\n",
    "    'регулярных выражений'\n",
    ")\n",
    "\n",
    "result = remove_consecutive_duplicates(some_string)\n",
    "print(result)"
   ]
  }
 ],
 "metadata": {
  "kernelspec": {
   "display_name": "Python 3",
   "language": "python",
   "name": "python3"
  },
  "language_info": {
   "codemirror_mode": {
    "name": "ipython",
    "version": 3
   },
   "file_extension": ".py",
   "mimetype": "text/x-python",
   "name": "python",
   "nbconvert_exporter": "python",
   "pygments_lexer": "ipython3",
   "version": "3.9.6"
  },
  "orig_nbformat": 4
 },
 "nbformat": 4,
 "nbformat_minor": 2
}
