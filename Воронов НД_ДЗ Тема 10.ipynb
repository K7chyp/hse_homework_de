{
 "cells": [
  {
   "cell_type": "code",
   "execution_count": 33,
   "metadata": {},
   "outputs": [
    {
     "name": "stderr",
     "output_type": "stream",
     "text": [
      "/Users/nvoronov/Library/Python/3.9/lib/python/site-packages/sdv/single_table/base.py:104: UserWarning: We strongly recommend saving the metadata using 'save_to_json' for replicability in future SDV versions.\n",
      "  warnings.warn(\n",
      "24/12/01 15:39:23 WARN CacheManager: Asked to cache already cached data.\n"
     ]
    },
    {
     "name": "stdout",
     "output_type": "stream",
     "text": [
      "Duration without caching: 0.29344606399536133 seconds\n",
      "Duration with caching: 0.2757530212402344 seconds\n",
      "Duration with checkpointing: 0.26209115982055664 seconds\n"
     ]
    }
   ],
   "source": [
    "from pyspark.sql import functions as F\n",
    "import time\n",
    "from sdv.single_table import GaussianCopulaSynthesizer\n",
    "from sdv.metadata import Metadata\n",
    "import pandas as pd\n",
    "from pyspark.sql import SparkSession\n",
    "\n",
    "path = '/Users/nvoronov/Downloads/'\n",
    "df = pd.read_csv(path + 'electronic_devices.csv')\n",
    "df['addons'] = df['addons'].fillna('')\n",
    "df['addons'] = df['addons'].apply(lambda x: len(x.split(',')))\n",
    "\n",
    "metadata = Metadata.detect_from_dataframe(\n",
    "    data=df,\n",
    "    table_name='electronic_devices')\n",
    "\n",
    "synthesizer = GaussianCopulaSynthesizer(metadata)\n",
    "synthesizer.fit(df)\n",
    "\n",
    "synthetic_data = synthesizer.sample(num_rows=1_000_000)\n",
    "synthetic_data.to_csv(path + 'generated_electronic_devices.csv', index=False)\n",
    "\n",
    "# Инициализация SparkSession\n",
    "spark = SparkSession.builder \\\n",
    "    .appName(\"Electronic Devices Analysis\") \\\n",
    "    .getOrCreate()\n",
    "\n",
    "spark.sparkContext.setCheckpointDir(path)\n",
    "\n",
    "\n",
    "# Чтение сгенерированных данных\n",
    "df_spark = spark.read.csv(\n",
    "    path + 'generated_electronic_devices.csv', header=True, inferSchema=True)\n",
    "\n",
    "# Фильтрация данных за 2024-09-03 и с одной дополнительной покупкой\n",
    "filtered_data = df_spark.filter(\n",
    "    (df_spark.purchase_date == '2024-09-03') & (df_spark.addons == 1))\n",
    "\n",
    "# Группировка по полу и возрасту, вычисление разницы между минимальной и максимальной ценой\n",
    "result = filtered_data.groupBy('gender', 'age').agg(\n",
    "    (F.max('unit_price') - F.min('unit_price')).alias('price_difference'),\n",
    "    (F.max('total_price') - F.min('total_price')).alias('order_difference')\n",
    ")\n",
    "\n",
    "# Сбор данных в список\n",
    "result_collected = result.collect()\n",
    "\n",
    "# Без кэширования\n",
    "start_time = time.time()\n",
    "result_no_cache = filtered_data.groupBy('gender', 'age').agg(\n",
    "    (F.max('unit_price') - F.min('unit_price')).alias('price_difference'),\n",
    "    (F.max('total_price') - F.min('total_price')).alias('order_difference')\n",
    ").collect()\n",
    "no_cache_duration = time.time() - start_time\n",
    "\n",
    "# С кэшированием\n",
    "filtered_data.cache()  # Кэширование данных\n",
    "start_time = time.time()\n",
    "result_with_cache = filtered_data.groupBy('gender', 'age').agg(\n",
    "    (F.max('unit_price') - F.min('unit_price')).alias('price_difference'),\n",
    "    (F.max('total_price') - F.min('total_price')).alias('order_difference')\n",
    ").collect()\n",
    "cache_duration = time.time() - start_time\n",
    "\n",
    "# Сохранение контрольной точки\n",
    "filtered_data.checkpoint()  # Сохранение контрольной точки\n",
    "start_time = time.time()\n",
    "result_with_checkpoint = filtered_data.groupBy('gender', 'age').agg(\n",
    "    (F.max('unit_price') - F.min('unit_price')).alias('price_difference'),\n",
    "    (F.max('total_price') - F.min('total_price')).alias('order_difference')\n",
    ").collect()\n",
    "checkpoint_duration = time.time() - start_time\n",
    "\n",
    "print(f\"Duration without caching: {no_cache_duration} seconds\")\n",
    "print(f\"Duration with caching: {cache_duration} seconds\")\n",
    "print(f\"Duration with checkpointing: {checkpoint_duration} seconds\")"
   ]
  }
 ],
 "metadata": {
  "kernelspec": {
   "display_name": "Python 3",
   "language": "python",
   "name": "python3"
  },
  "language_info": {
   "codemirror_mode": {
    "name": "ipython",
    "version": 3
   },
   "file_extension": ".py",
   "mimetype": "text/x-python",
   "name": "python",
   "nbconvert_exporter": "python",
   "pygments_lexer": "ipython3",
   "version": "3.9.6"
  },
  "orig_nbformat": 4
 },
 "nbformat": 4,
 "nbformat_minor": 2
}
